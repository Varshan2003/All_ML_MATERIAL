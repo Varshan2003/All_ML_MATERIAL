{
 "cells": [
  {
   "cell_type": "code",
   "execution_count": null,
   "id": "19733cfd",
   "metadata": {},
   "outputs": [],
   "source": [
    "import numpy as np"
   ]
  },
  {
   "cell_type": "code",
   "execution_count": null,
   "id": "0684b6cc",
   "metadata": {},
   "outputs": [],
   "source": [
    "class LinearRegression:\n",
    "    def __init__(self, learning_rate, no_of_iterations):\n",
    "        self.learning_rate = learning_rate\n",
    "        self.no_of_iterations = no_of_iterations\n",
    "\n",
    "    def fit(self, X, Y):\n",
    "        self.m, self.n = X.shape\n",
    "        self.w = np.zeros(self.n)\n",
    "        self.b = 0\n",
    "        self.x = X\n",
    "        self.y = Y\n",
    "        for i in range(self.no_of_iterations):\n",
    "            self.updateWeights()\n",
    "\n",
    "    def updateWeights(self):\n",
    "        Y_predict = self.predict(self.x)\n",
    "        dw = -(2 * (self.x.T).dot(self.y - Y_predict)) / self.m\n",
    "        db = -(2 * np.sum(self.y - Y_predict)) / self.m\n",
    "        self.w = self.w - self.learning_rate * dw\n",
    "        self.b = self.b - self.learning_rate * db\n",
    "\n",
    "    def predict(self, X):\n",
    "        return X.dot(self.w) + self.b\n"
   ]
  },
  {
   "cell_type": "code",
   "execution_count": null,
   "id": "92eb0cdc",
   "metadata": {},
   "outputs": [],
   "source": []
  }
 ],
 "metadata": {
  "kernelspec": {
   "display_name": "Python 3.9 (tensorflow)",
   "language": "python",
   "name": "tensorflow"
  },
  "language_info": {
   "codemirror_mode": {
    "name": "ipython",
    "version": 3
   },
   "file_extension": ".py",
   "mimetype": "text/x-python",
   "name": "python",
   "nbconvert_exporter": "python",
   "pygments_lexer": "ipython3",
   "version": "3.9.16"
  }
 },
 "nbformat": 4,
 "nbformat_minor": 5
}
