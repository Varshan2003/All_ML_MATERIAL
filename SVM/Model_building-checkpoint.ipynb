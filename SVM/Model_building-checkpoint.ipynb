{
 "cells": [
  {
   "cell_type": "code",
   "execution_count": 3,
   "id": "733f69ad",
   "metadata": {},
   "outputs": [],
   "source": [
    "import numpy as np"
   ]
  },
  {
   "cell_type": "code",
   "execution_count": 6,
   "id": "208b4135",
   "metadata": {},
   "outputs": [],
   "source": [
    "import numpy as np\n",
    "\n",
    "class SVM:\n",
    "    def __init__(self, no_of_iterations, learning_rate, lambda_value):\n",
    "        self.no_of_iterations = no_of_iterations\n",
    "        self.learning_rate = learning_rate\n",
    "        self.lambda_value = lambda_value\n",
    "        self.w = None  # Initialize weights\n",
    "        self.b = None  # Initialize bias\n",
    "    \n",
    "    def fit(self, x, y):\n",
    "        self.x = x\n",
    "        self.y = y\n",
    "        self.m, self.n = x.shape[0], x.shape[1]\n",
    "        self.w = np.zeros(self.n)\n",
    "        self.b = 0\n",
    "        for i in range(self.no_of_iterations):\n",
    "            self.updateWeights()\n",
    "            \n",
    "    def updateWeights(self):\n",
    "        y_label = np.where(self.y <= 0, -1, 1)\n",
    "        for i, x_i in enumerate(self.x):\n",
    "            condition = y_label[i] * (np.dot(x_i, self.w) - self.b)\n",
    "            if condition >= 1:\n",
    "                dw = 2 * self.lambda_value * self.w\n",
    "                db = 0\n",
    "            else:\n",
    "                dw = 2 * self.lambda_value * self.w - np.dot(x_i, y_label[i])\n",
    "                db = y_label[i]\n",
    "            self.w = self.w - self.learning_rate * dw\n",
    "            self.b = self.b - self.learning_rate * db\n",
    "    \n",
    "    def predict(self, X):\n",
    "        ans = np.dot(X, self.w) - self.b\n",
    "        return ans\n"
   ]
  }
 ],
 "metadata": {
  "kernelspec": {
   "display_name": "Python 3 (ipykernel)",
   "language": "python",
   "name": "python3"
  },
  "language_info": {
   "codemirror_mode": {
    "name": "ipython",
    "version": 3
   },
   "file_extension": ".py",
   "mimetype": "text/x-python",
   "name": "python",
   "nbconvert_exporter": "python",
   "pygments_lexer": "ipython3",
   "version": "3.10.9"
  }
 },
 "nbformat": 4,
 "nbformat_minor": 5
}
