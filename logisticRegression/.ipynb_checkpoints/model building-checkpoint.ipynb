{
 "cells": [
  {
   "cell_type": "code",
   "execution_count": 2,
   "id": "dff90594",
   "metadata": {},
   "outputs": [],
   "source": [
    "import numpy as np"
   ]
  },
  {
   "cell_type": "code",
   "execution_count": 16,
   "id": "a700820e",
   "metadata": {},
   "outputs": [],
   "source": [
    "class LogisticRegression:\n",
    "    def __init__(self,learning_rate,no_of_iterations):\n",
    "        self.learning_rate = learning_rate\n",
    "        self.no_of_iterations = no_of_iterations\n",
    "\n",
    "    def fit(self, x, y):\n",
    "        self.x = x\n",
    "        self.y = y\n",
    "        self.m, self.n = x.shape\n",
    "        self.w = np.zeros(self.n)  # Initialize weights with shape (self.n,)\n",
    "        self.b = 0\n",
    "        for i in range(self.no_of_iterations):\n",
    "            self.updateWeights()\n",
    "\n",
    "    def updateWeights(self):\n",
    "        y_cap = 1 / (1 + np.exp(-(self.x.dot(self.w) + self.b))) \n",
    "\n",
    "        dw = (1 / self.m) * self.x.T.dot(y_cap - self.y)  \n",
    "        db = (1 / self.m) * np.sum(y_cap - self.y)  \n",
    "        self.w = self.w - self.learning_rate * dw\n",
    "        self.b = self.b - self.learning_rate * db\n",
    "    def predict(self,Xp):\n",
    "        y_cap = 1 / (1 + np.exp(-(Xp.dot(self.w) + self.b))) \n",
    "        y_cap = np.where(y_cap>0.5,1,0)\n",
    "        return np.where(y_cap > 0.5, 1, 0)"
   ]
  },
  {
   "cell_type": "code",
   "execution_count": 18,
   "id": "569c5df3",
   "metadata": {},
   "outputs": [],
   "source": [
    "Logistic_Regression = LogisticRegression(0.01,100)"
   ]
  }
 ],
 "metadata": {
  "kernelspec": {
   "display_name": "Python 3 (ipykernel)",
   "language": "python",
   "name": "python3"
  },
  "language_info": {
   "codemirror_mode": {
    "name": "ipython",
    "version": 3
   },
   "file_extension": ".py",
   "mimetype": "text/x-python",
   "name": "python",
   "nbconvert_exporter": "python",
   "pygments_lexer": "ipython3",
   "version": "3.9.13"
  }
 },
 "nbformat": 4,
 "nbformat_minor": 5
}
